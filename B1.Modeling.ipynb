{
 "cells": [
  {
   "cell_type": "code",
   "execution_count": 1,
   "id": "7d87391e-c256-4673-930a-1579d4d69476",
   "metadata": {},
   "outputs": [],
   "source": [
    "import pandas as pd\n",
    "import numpy as np\n",
    "import matplotlib.pyplot as plt\n",
    "from sklearn.model_selection import train_test_split\n",
    "from sklearn.linear_model import LogisticRegression\n",
    "from sklearn.metrics import accuracy_score, roc_curve, roc_auc_score\n",
    "from sklearn.model_selection import StratifiedKFold"
   ]
  },
  {
   "cell_type": "markdown",
   "id": "24fe580e-042e-456e-b131-8c73ce87e398",
   "metadata": {},
   "source": [
    "# Model Building"
   ]
  },
  {
   "cell_type": "markdown",
   "id": "657d572f-3543-46be-87c8-8afbad1fc602",
   "metadata": {},
   "source": [
    "## Logistic Regression"
   ]
  },
  {
   "cell_type": "markdown",
   "id": "1a886d3f-c225-43bc-9641-8bfff8ffb4aa",
   "metadata": {},
   "source": [
    "We will start with Logistic Regression as our first model to predict the binary target variable."
   ]
  },
  {
   "cell_type": "code",
   "execution_count": 2,
   "id": "4f12c2b9-b337-416d-b68d-a51301604f93",
   "metadata": {},
   "outputs": [],
   "source": [
    "train = pd.read_csv('./data/prepped_data.csv')\n",
    "test = pd.read_csv('./data/prepped_test.csv')"
   ]
  },
  {
   "cell_type": "code",
   "execution_count": 3,
   "id": "725bb305-4908-4627-9d77-f7e7f6c350b5",
   "metadata": {},
   "outputs": [],
   "source": [
    "## dropping the Loan_ID column as it does not give us predictive power\n",
    "train = train.drop('Loan_ID', axis=1)\n",
    "test = test.drop('Loan_ID', axis=1)"
   ]
  },
  {
   "cell_type": "code",
   "execution_count": 4,
   "id": "d4e57287-0726-4c58-9c63-e0daa59bbf47",
   "metadata": {},
   "outputs": [],
   "source": [
    "y = train['Loan_Status']\n",
    "X = train.drop('Loan_Status', axis=1)"
   ]
  },
  {
   "cell_type": "markdown",
   "id": "b4493503-5ce5-4681-b03c-e7ca61c59aca",
   "metadata": {},
   "source": [
    "We will create dummy variables for the categorical variables."
   ]
  },
  {
   "cell_type": "code",
   "execution_count": 5,
   "id": "322abc0d-db5d-45b5-82b8-54cb18525e59",
   "metadata": {},
   "outputs": [],
   "source": [
    "X = pd.get_dummies(X)\n",
    "train = pd.get_dummies(train)\n",
    "test = pd.get_dummies(test)"
   ]
  },
  {
   "cell_type": "code",
   "execution_count": 6,
   "id": "f60b00c1-bada-4192-8aeb-b60d456e9463",
   "metadata": {},
   "outputs": [],
   "source": [
    "## Creating a validation dataset\n",
    "X_train, X_val, y_train, y_val = train_test_split(X, y, test_size=0.3)"
   ]
  },
  {
   "cell_type": "code",
   "execution_count": 7,
   "id": "e45ef156-6226-4ba3-9cf9-7d9ab454f8ef",
   "metadata": {},
   "outputs": [
    {
     "data": {
      "text/html": [
       "<style>#sk-container-id-1 {color: black;}#sk-container-id-1 pre{padding: 0;}#sk-container-id-1 div.sk-toggleable {background-color: white;}#sk-container-id-1 label.sk-toggleable__label {cursor: pointer;display: block;width: 100%;margin-bottom: 0;padding: 0.3em;box-sizing: border-box;text-align: center;}#sk-container-id-1 label.sk-toggleable__label-arrow:before {content: \"▸\";float: left;margin-right: 0.25em;color: #696969;}#sk-container-id-1 label.sk-toggleable__label-arrow:hover:before {color: black;}#sk-container-id-1 div.sk-estimator:hover label.sk-toggleable__label-arrow:before {color: black;}#sk-container-id-1 div.sk-toggleable__content {max-height: 0;max-width: 0;overflow: hidden;text-align: left;background-color: #f0f8ff;}#sk-container-id-1 div.sk-toggleable__content pre {margin: 0.2em;color: black;border-radius: 0.25em;background-color: #f0f8ff;}#sk-container-id-1 input.sk-toggleable__control:checked~div.sk-toggleable__content {max-height: 200px;max-width: 100%;overflow: auto;}#sk-container-id-1 input.sk-toggleable__control:checked~label.sk-toggleable__label-arrow:before {content: \"▾\";}#sk-container-id-1 div.sk-estimator input.sk-toggleable__control:checked~label.sk-toggleable__label {background-color: #d4ebff;}#sk-container-id-1 div.sk-label input.sk-toggleable__control:checked~label.sk-toggleable__label {background-color: #d4ebff;}#sk-container-id-1 input.sk-hidden--visually {border: 0;clip: rect(1px 1px 1px 1px);clip: rect(1px, 1px, 1px, 1px);height: 1px;margin: -1px;overflow: hidden;padding: 0;position: absolute;width: 1px;}#sk-container-id-1 div.sk-estimator {font-family: monospace;background-color: #f0f8ff;border: 1px dotted black;border-radius: 0.25em;box-sizing: border-box;margin-bottom: 0.5em;}#sk-container-id-1 div.sk-estimator:hover {background-color: #d4ebff;}#sk-container-id-1 div.sk-parallel-item::after {content: \"\";width: 100%;border-bottom: 1px solid gray;flex-grow: 1;}#sk-container-id-1 div.sk-label:hover label.sk-toggleable__label {background-color: #d4ebff;}#sk-container-id-1 div.sk-serial::before {content: \"\";position: absolute;border-left: 1px solid gray;box-sizing: border-box;top: 0;bottom: 0;left: 50%;z-index: 0;}#sk-container-id-1 div.sk-serial {display: flex;flex-direction: column;align-items: center;background-color: white;padding-right: 0.2em;padding-left: 0.2em;position: relative;}#sk-container-id-1 div.sk-item {position: relative;z-index: 1;}#sk-container-id-1 div.sk-parallel {display: flex;align-items: stretch;justify-content: center;background-color: white;position: relative;}#sk-container-id-1 div.sk-item::before, #sk-container-id-1 div.sk-parallel-item::before {content: \"\";position: absolute;border-left: 1px solid gray;box-sizing: border-box;top: 0;bottom: 0;left: 50%;z-index: -1;}#sk-container-id-1 div.sk-parallel-item {display: flex;flex-direction: column;z-index: 1;position: relative;background-color: white;}#sk-container-id-1 div.sk-parallel-item:first-child::after {align-self: flex-end;width: 50%;}#sk-container-id-1 div.sk-parallel-item:last-child::after {align-self: flex-start;width: 50%;}#sk-container-id-1 div.sk-parallel-item:only-child::after {width: 0;}#sk-container-id-1 div.sk-dashed-wrapped {border: 1px dashed gray;margin: 0 0.4em 0.5em 0.4em;box-sizing: border-box;padding-bottom: 0.4em;background-color: white;}#sk-container-id-1 div.sk-label label {font-family: monospace;font-weight: bold;display: inline-block;line-height: 1.2em;}#sk-container-id-1 div.sk-label-container {text-align: center;}#sk-container-id-1 div.sk-container {/* jupyter's `normalize.less` sets `[hidden] { display: none; }` but bootstrap.min.css set `[hidden] { display: none !important; }` so we also need the `!important` here to be able to override the default hidden behavior on the sphinx rendered scikit-learn.org. See: https://github.com/scikit-learn/scikit-learn/issues/21755 */display: inline-block !important;position: relative;}#sk-container-id-1 div.sk-text-repr-fallback {display: none;}</style><div id=\"sk-container-id-1\" class=\"sk-top-container\"><div class=\"sk-text-repr-fallback\"><pre>LogisticRegression(max_iter=1000)</pre><b>In a Jupyter environment, please rerun this cell to show the HTML representation or trust the notebook. <br />On GitHub, the HTML representation is unable to render, please try loading this page with nbviewer.org.</b></div><div class=\"sk-container\" hidden><div class=\"sk-item\"><div class=\"sk-estimator sk-toggleable\"><input class=\"sk-toggleable__control sk-hidden--visually\" id=\"sk-estimator-id-1\" type=\"checkbox\" checked><label for=\"sk-estimator-id-1\" class=\"sk-toggleable__label sk-toggleable__label-arrow\">LogisticRegression</label><div class=\"sk-toggleable__content\"><pre>LogisticRegression(max_iter=1000)</pre></div></div></div></div></div>"
      ],
      "text/plain": [
       "LogisticRegression(max_iter=1000)"
      ]
     },
     "execution_count": 7,
     "metadata": {},
     "output_type": "execute_result"
    }
   ],
   "source": [
    "model = LogisticRegression(max_iter=1000)\n",
    "model.fit(X_train, y_train)"
   ]
  },
  {
   "cell_type": "markdown",
   "id": "7cb3d695-dcd5-4e6f-9dbc-7199a28aa8a0",
   "metadata": {},
   "source": [
    "Now we will measure the accuracy on the validation data set to see how the model is performing on the data it has not seen"
   ]
  },
  {
   "cell_type": "code",
   "execution_count": 8,
   "id": "8a1cc5ab-5bb2-4849-ac57-9c41e0413988",
   "metadata": {},
   "outputs": [
    {
     "data": {
      "text/plain": [
       "0.7621621621621621"
      ]
     },
     "execution_count": 8,
     "metadata": {},
     "output_type": "execute_result"
    }
   ],
   "source": [
    "pred_val = model.predict(X_val)\n",
    "accuracy_score(y_val, pred_val)"
   ]
  },
  {
   "cell_type": "markdown",
   "id": "2551c106-4186-431b-acd0-68bddb16ba94",
   "metadata": {},
   "source": [
    "That is a good accuracy score!"
   ]
  },
  {
   "cell_type": "markdown",
   "id": "6353d6fd-3d40-48d7-996b-f255c4312217",
   "metadata": {},
   "source": [
    "Now, let's make predictions for the test dataset."
   ]
  },
  {
   "cell_type": "code",
   "execution_count": 9,
   "id": "95d132dd-d295-4215-83a6-b6c3e1e3837a",
   "metadata": {},
   "outputs": [],
   "source": [
    "pred_test = model.predict(test)"
   ]
  },
  {
   "cell_type": "code",
   "execution_count": 10,
   "id": "1f70dd48-bc6a-4c41-997d-a1c4a627d3a1",
   "metadata": {},
   "outputs": [],
   "source": [
    "test_submission = pd.DataFrame({'Loan_Status': pred_test})"
   ]
  },
  {
   "cell_type": "code",
   "execution_count": 11,
   "id": "354593d4-3acd-4369-8522-abae1c27e6db",
   "metadata": {},
   "outputs": [],
   "source": [
    "test_submission.to_csv('./data/logistic_submission.csv', index=False)"
   ]
  },
  {
   "cell_type": "markdown",
   "id": "4f5bf277-0c3d-4f5d-b922-9490caa4c146",
   "metadata": {},
   "source": [
    "## Logistic Regression with k-fold cross-validation"
   ]
  },
  {
   "cell_type": "markdown",
   "id": "0b27f9fa-e35b-4164-ae3e-7da832144a98",
   "metadata": {},
   "source": [
    "We will now use k-fold cross validation to check how robust is our model when it comes to unseen data. As out dataset is not large, we can use cross-validation to get an estimate for our model performance."
   ]
  },
  {
   "cell_type": "code",
   "execution_count": 12,
   "id": "e804e0ab-3eff-4088-8f66-cee488e924aa",
   "metadata": {},
   "outputs": [
    {
     "name": "stdout",
     "output_type": "stream",
     "text": [
      "1 of kfold5\n",
      "\n",
      "Accuracy Score -->  0.8211382113821138\n",
      "2 of kfold5\n",
      "\n",
      "Accuracy Score -->  0.7967479674796748\n",
      "3 of kfold5\n",
      "\n",
      "Accuracy Score -->  0.8048780487804879\n",
      "4 of kfold5\n",
      "\n",
      "Accuracy Score -->  0.7560975609756098\n",
      "5 of kfold5\n",
      "\n",
      "Accuracy Score -->  0.8278688524590164\n",
      "Mean Validation Accuracy -->  0.8013461282153805\n"
     ]
    }
   ],
   "source": [
    "## CV logic for k=5 folds\n",
    "i = 1\n",
    "mean = 0\n",
    "kf = StratifiedKFold(n_splits=5, random_state=42, shuffle=True)\n",
    "for train_index, test_index in kf.split(X, y):\n",
    "    print(f'{i} of kfold{kf.n_splits}\\n')\n",
    "    xtr, xvl = X.loc[train_index], X.loc[test_index]\n",
    "    ytr, yvl = y[train_index], y[test_index]\n",
    "    model = LogisticRegression(max_iter=500, random_state=42)\n",
    "    model.fit(xtr, ytr)\n",
    "    pred_cv=model.predict(xvl)\n",
    "    score=accuracy_score(yvl, pred_cv)\n",
    "    mean += score\n",
    "    print('Accuracy Score --> ', score)\n",
    "    i+=1\n",
    "    pred_test_cv = model.predict(test)\n",
    "    pred = model.predict_proba(xvl)[:,1]\n",
    "print('Mean Validation Accuracy --> ', mean/(i-1))\n"
   ]
  },
  {
   "cell_type": "markdown",
   "id": "2fe14467-dae0-4394-946b-e0d6fbdc2783",
   "metadata": {},
   "source": [
    "The mean validation accuracy for this model is 80%, which is very good. We will now plot the ROC-AUC curve."
   ]
  },
  {
   "cell_type": "code",
   "execution_count": 13,
   "id": "42eba5f0-17ab-453b-a917-cd9659a0ebef",
   "metadata": {},
   "outputs": [
    {
     "data": {
      "image/png": "[encoded data removed]",
      "text/plain": [
       "<Figure size 640x480 with 1 Axes>"
      ]
     },
     "metadata": {},
     "output_type": "display_data"
    }
   ],
   "source": [
    "fpr, tpr, _ = roc_curve(yvl, pred)\n",
    "auc = roc_auc_score(yvl, pred)\n",
    "plt.plot(fpr, tpr, label=f'AUC: {auc}')\n",
    "plt.xlabel('True Positive Rate')\n",
    "plt.ylabel('False Positive Rate')\n",
    "plt.legend(loc=4)\n",
    "plt.show()"
   ]
  },
  {
   "cell_type": "code",
   "execution_count": 14,
   "id": "60e3fb9c-a961-483e-afdd-915cdb5059cd",
   "metadata": {},
   "outputs": [],
   "source": [
    "test_submission_cv = pd.DataFrame({'Loan_Status': pred_test_cv})"
   ]
  },
  {
   "cell_type": "code",
   "execution_count": 15,
   "id": "2e7aaecd-eb78-45f4-ba0f-0322fdba8dab",
   "metadata": {},
   "outputs": [],
   "source": [
    "test_submission_cv.to_csv('./data/logistic_CV_submission.csv', index=False)"
   ]
  },
  {
   "cell_type": "code",
   "execution_count": 18,
   "id": "375b827b-9058-4161-9341-b1d6af6acddf",
   "metadata": {},
   "outputs": [],
   "source": [
    "train.to_csv('./data/im_train.csv', index=False)\n",
    "test.to_csv('./data/im_test.csv', index=False)"
   ]
  },
  {
   "cell_type": "code",
   "execution_count": null,
   "id": "dc7315fb-d322-42ff-8147-7041e0b81ce0",
   "metadata": {},
   "outputs": [],
   "source": []
  }
 ],
 "metadata": {
  "kernelspec": {
   "display_name": "env",
   "language": "python",
   "name": "env"
  },
  "language_info": {
   "codemirror_mode": {
    "name": "ipython",
    "version": 3
   },
   "file_extension": ".py",
   "mimetype": "text/x-python",
   "name": "python",
   "nbconvert_exporter": "python",
   "pygments_lexer": "ipython3",
   "version": "3.10.5"
  }
 },
 "nbformat": 4,
 "nbformat_minor": 5
}
