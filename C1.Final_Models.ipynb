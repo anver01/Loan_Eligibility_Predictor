{
 "cells": [
  {
   "cell_type": "code",
   "execution_count": 23,
   "id": "7104ae5a-ba4b-49d7-9c21-f02b6fc4f57e",
   "metadata": {},
   "outputs": [],
   "source": [
    "import pandas as pd\n",
    "import numpy as np\n",
    "import matplotlib.pyplot as plt\n",
    "from sklearn.linear_model import LogisticRegression\n",
    "from sklearn.model_selection import StratifiedKFold, GridSearchCV, train_test_split\n",
    "from sklearn.metrics import accuracy_score, roc_curve, roc_auc_score\n",
    "from sklearn import tree\n",
    "from sklearn.ensemble import RandomForestClassifier\n",
    "from xgboost import XGBClassifier"
   ]
  },
  {
   "cell_type": "markdown",
   "id": "dd61f384-4439-4f4d-bfe8-ebde5a84ac28",
   "metadata": {},
   "source": [
    "# Final Modeling"
   ]
  },
  {
   "cell_type": "markdown",
   "id": "1db038b6-3d15-4739-b748-cdc36b4fafb4",
   "metadata": {},
   "source": [
    "After creating new features, we will create the final models. We will be training the following models:\n",
    "* Logistic Regression\n",
    "* Decision Tree\n",
    "* Random Forest\n",
    "* XGBoost"
   ]
  },
  {
   "cell_type": "code",
   "execution_count": 11,
   "id": "61feb128-1c95-40e4-a874-032545a0f2c7",
   "metadata": {},
   "outputs": [],
   "source": [
    "train = pd.read_csv('./data/fe_train.csv')\n",
    "test = pd.read_csv('./data/fe_test.csv')"
   ]
  },
  {
   "cell_type": "code",
   "execution_count": 13,
   "id": "1f5af84d-6578-4c33-b4e9-da59fe99e049",
   "metadata": {},
   "outputs": [],
   "source": [
    "y = train.Loan_Status\n",
    "X = train.drop('Loan_Status', axis=1)"
   ]
  },
  {
   "cell_type": "markdown",
   "id": "1d237c3e-31b8-435f-a6fa-b0da56f7764a",
   "metadata": {},
   "source": [
    "## Logistic Regression"
   ]
  },
  {
   "cell_type": "code",
   "execution_count": 15,
   "id": "683a2aec-65b5-40b5-a203-611722fb49c2",
   "metadata": {},
   "outputs": [
    {
     "name": "stdout",
     "output_type": "stream",
     "text": [
      "1 of kfold5\n",
      "\n",
      "Accuracy Score -->  0.8130081300813008\n",
      "2 of kfold5\n",
      "\n",
      "Accuracy Score -->  0.8048780487804879\n",
      "3 of kfold5\n",
      "\n",
      "Accuracy Score -->  0.7967479674796748\n",
      "4 of kfold5\n",
      "\n",
      "Accuracy Score -->  0.7642276422764228\n",
      "5 of kfold5\n",
      "\n",
      "Accuracy Score -->  0.8278688524590164\n",
      "Mean Validation Accuracy -->  0.8013461282153805\n"
     ]
    }
   ],
   "source": [
    "i = 1\n",
    "mean = 0\n",
    "kf = StratifiedKFold(n_splits=5, random_state=42, shuffle=True)\n",
    "for train_index, test_index in kf.split(X, y):\n",
    "    print(f'{i} of kfold{kf.n_splits}\\n')\n",
    "    xtr, xvl = X.loc[train_index], X.loc[test_index]\n",
    "    ytr, yvl = y[train_index], y[test_index]\n",
    "    model = LogisticRegression(max_iter=500, random_state=42)\n",
    "    model.fit(xtr, ytr)\n",
    "    pred_cv=model.predict(xvl)\n",
    "    score=accuracy_score(yvl, pred_cv)\n",
    "    mean += score\n",
    "    print('Accuracy Score --> ', score)\n",
    "    i+=1\n",
    "    pred_test_cv = model.predict(test)\n",
    "    pred = model.predict_proba(xvl)[:,1]\n",
    "print('Mean Validation Accuracy --> ', mean/(i-1))"
   ]
  },
  {
   "cell_type": "markdown",
   "id": "94502e93-ea01-4a10-851b-e99facb3dcd4",
   "metadata": {},
   "source": [
    "## Decision Tree"
   ]
  },
  {
   "cell_type": "code",
   "execution_count": 17,
   "id": "1d38c6db-0b7d-4a46-b88c-b4e4a87828a2",
   "metadata": {},
   "outputs": [
    {
     "name": "stdout",
     "output_type": "stream",
     "text": [
      "1 of kfold5\n",
      "\n",
      "Accuracy Score -->  0.7154471544715447\n",
      "2 of kfold5\n",
      "\n",
      "Accuracy Score -->  0.7560975609756098\n",
      "3 of kfold5\n",
      "\n",
      "Accuracy Score -->  0.7479674796747967\n",
      "4 of kfold5\n",
      "\n",
      "Accuracy Score -->  0.7317073170731707\n",
      "5 of kfold5\n",
      "\n",
      "Accuracy Score -->  0.7540983606557377\n",
      "Mean Validation Accuracy -->  0.7410635745701719\n"
     ]
    }
   ],
   "source": [
    "i = 1\n",
    "mean = 0\n",
    "kf = StratifiedKFold(n_splits=5, random_state=42, shuffle=True)\n",
    "for train_index, test_index in kf.split(X, y):\n",
    "    print(f'{i} of kfold{kf.n_splits}\\n')\n",
    "    xtr, xvl = X.loc[train_index], X.loc[test_index]\n",
    "    ytr, yvl = y[train_index], y[test_index]\n",
    "    model = tree.DecisionTreeClassifier(random_state=42)\n",
    "    model.fit(xtr, ytr)\n",
    "    pred_cv=model.predict(xvl)\n",
    "    score=accuracy_score(yvl, pred_cv)\n",
    "    mean += score\n",
    "    print('Accuracy Score --> ', score)\n",
    "    i+=1\n",
    "    pred_test_cv = model.predict(test)\n",
    "    pred = model.predict_proba(xvl)[:,1]\n",
    "print('Mean Validation Accuracy --> ', mean/(i-1))"
   ]
  },
  {
   "cell_type": "markdown",
   "id": "b6060186-3d04-4a45-b3c1-0c25904a463b",
   "metadata": {},
   "source": [
    "## Random Forest"
   ]
  },
  {
   "cell_type": "code",
   "execution_count": 19,
   "id": "a1c55978-bff4-4910-b031-5b6c6736886a",
   "metadata": {},
   "outputs": [
    {
     "name": "stdout",
     "output_type": "stream",
     "text": [
      "1 of kfold5\n",
      "\n",
      "Accuracy Score -->  0.7967479674796748\n",
      "2 of kfold5\n",
      "\n",
      "Accuracy Score -->  0.8130081300813008\n",
      "3 of kfold5\n",
      "\n",
      "Accuracy Score -->  0.8048780487804879\n",
      "4 of kfold5\n",
      "\n",
      "Accuracy Score -->  0.7723577235772358\n",
      "5 of kfold5\n",
      "\n",
      "Accuracy Score -->  0.8114754098360656\n",
      "Mean Validation Accuracy -->  0.7996934559509531\n"
     ]
    }
   ],
   "source": [
    "i = 1\n",
    "mean = 0\n",
    "kf = StratifiedKFold(n_splits=5, random_state=42, shuffle=True)\n",
    "for train_index, test_index in kf.split(X, y):\n",
    "    print(f'{i} of kfold{kf.n_splits}\\n')\n",
    "    xtr, xvl = X.loc[train_index], X.loc[test_index]\n",
    "    ytr, yvl = y[train_index], y[test_index]\n",
    "    model = RandomForestClassifier(random_state=42, max_depth=10)\n",
    "    model.fit(xtr, ytr)\n",
    "    pred_cv=model.predict(xvl)\n",
    "    score=accuracy_score(yvl, pred_cv)\n",
    "    mean += score\n",
    "    print('Accuracy Score --> ', score)\n",
    "    i+=1\n",
    "    pred_test_cv = model.predict(test)\n",
    "    pred = model.predict_proba(xvl)[:,1]\n",
    "print('Mean Validation Accuracy --> ', mean/(i-1))"
   ]
  },
  {
   "cell_type": "code",
   "execution_count": 24,
   "id": "3948bc25-e632-44dc-915b-4c14c9ad8519",
   "metadata": {},
   "outputs": [
    {
     "data": {
      "text/plain": [
       "<AxesSubplot: >"
      ]
     },
     "execution_count": 24,
     "metadata": {},
     "output_type": "execute_result"
    },
    {
     "data": {
      "image/png": "[encoded data removed]",
      "text/plain": [
       "<Figure size 640x480 with 1 Axes>"
      ]
     },
     "metadata": {},
     "output_type": "display_data"
    }
   ],
   "source": [
    "feat_impt = pd.Series(model.feature_importances_, index=X.columns)\n",
    "feat_impt.plot(kind='barh')"
   ]
  },
  {
   "cell_type": "markdown",
   "id": "0311e0f1-0e43-4424-81c8-8dbbdd689fc2",
   "metadata": {},
   "source": [
    "We can see that ```Credit_History``` is a very important feature."
   ]
  },
  {
   "cell_type": "markdown",
   "id": "d1fd5058-c923-4d14-9e28-97cb8ce5be17",
   "metadata": {},
   "source": [
    "## XGBoost"
   ]
  },
  {
   "cell_type": "code",
   "execution_count": 43,
   "id": "dd437d97-9b46-4656-bbdd-8c800ed803c8",
   "metadata": {},
   "outputs": [
    {
     "name": "stdout",
     "output_type": "stream",
     "text": [
      "1 of kfold5\n",
      "\n",
      "Accuracy Score -->  0.7886178861788617\n",
      "2 of kfold5\n",
      "\n",
      "Accuracy Score -->  0.7967479674796748\n",
      "3 of kfold5\n",
      "\n",
      "Accuracy Score -->  0.7886178861788617\n",
      "4 of kfold5\n",
      "\n",
      "Accuracy Score -->  0.7967479674796748\n",
      "5 of kfold5\n",
      "\n",
      "Accuracy Score -->  0.7950819672131147\n",
      "Mean Validation Accuracy -->  0.7931627349060376\n"
     ]
    }
   ],
   "source": [
    "i = 1\n",
    "mean = 0\n",
    "kf = StratifiedKFold(n_splits=5, random_state=42, shuffle=True)\n",
    "for train_index, test_index in kf.split(X, y):\n",
    "    print(f'{i} of kfold{kf.n_splits}\\n')\n",
    "    xtr, xvl = X.loc[train_index], X.loc[test_index]\n",
    "    ytr, yvl = y[train_index], y[test_index]\n",
    "    model = XGBClassifier(n_estimators=20, max_depth=4)\n",
    "    model.fit(xtr, ytr)\n",
    "    pred_cv=model.predict(xvl)\n",
    "    score=accuracy_score(yvl, pred_cv)\n",
    "    mean += score\n",
    "    print('Accuracy Score --> ', score)\n",
    "    i+=1\n",
    "    pred_test_cv = model.predict(test)\n",
    "    pred = model.predict_proba(xvl)[:,1]\n",
    "print('Mean Validation Accuracy --> ', mean/(i-1))"
   ]
  },
  {
   "cell_type": "markdown",
   "id": "854cc9b7-c041-48d7-a7af-397675e8936c",
   "metadata": {},
   "source": [
    "# HyperParameter Optimization"
   ]
  },
  {
   "cell_type": "markdown",
   "id": "3f585516-a229-4d84-b05e-f0b75e3abcc1",
   "metadata": {},
   "source": [
    "## GridSearch"
   ]
  },
  {
   "cell_type": "code",
   "execution_count": 25,
   "id": "85e8abe9-5f2d-4025-b1a2-f726202d6ce5",
   "metadata": {},
   "outputs": [
    {
     "data": {
      "text/html": [
       "<style>#sk-container-id-1 {color: black;}#sk-container-id-1 pre{padding: 0;}#sk-container-id-1 div.sk-toggleable {background-color: white;}#sk-container-id-1 label.sk-toggleable__label {cursor: pointer;display: block;width: 100%;margin-bottom: 0;padding: 0.3em;box-sizing: border-box;text-align: center;}#sk-container-id-1 label.sk-toggleable__label-arrow:before {content: \"▸\";float: left;margin-right: 0.25em;color: #696969;}#sk-container-id-1 label.sk-toggleable__label-arrow:hover:before {color: black;}#sk-container-id-1 div.sk-estimator:hover label.sk-toggleable__label-arrow:before {color: black;}#sk-container-id-1 div.sk-toggleable__content {max-height: 0;max-width: 0;overflow: hidden;text-align: left;background-color: #f0f8ff;}#sk-container-id-1 div.sk-toggleable__content pre {margin: 0.2em;color: black;border-radius: 0.25em;background-color: #f0f8ff;}#sk-container-id-1 input.sk-toggleable__control:checked~div.sk-toggleable__content {max-height: 200px;max-width: 100%;overflow: auto;}#sk-container-id-1 input.sk-toggleable__control:checked~label.sk-toggleable__label-arrow:before {content: \"▾\";}#sk-container-id-1 div.sk-estimator input.sk-toggleable__control:checked~label.sk-toggleable__label {background-color: #d4ebff;}#sk-container-id-1 div.sk-label input.sk-toggleable__control:checked~label.sk-toggleable__label {background-color: #d4ebff;}#sk-container-id-1 input.sk-hidden--visually {border: 0;clip: rect(1px 1px 1px 1px);clip: rect(1px, 1px, 1px, 1px);height: 1px;margin: -1px;overflow: hidden;padding: 0;position: absolute;width: 1px;}#sk-container-id-1 div.sk-estimator {font-family: monospace;background-color: #f0f8ff;border: 1px dotted black;border-radius: 0.25em;box-sizing: border-box;margin-bottom: 0.5em;}#sk-container-id-1 div.sk-estimator:hover {background-color: #d4ebff;}#sk-container-id-1 div.sk-parallel-item::after {content: \"\";width: 100%;border-bottom: 1px solid gray;flex-grow: 1;}#sk-container-id-1 div.sk-label:hover label.sk-toggleable__label {background-color: #d4ebff;}#sk-container-id-1 div.sk-serial::before {content: \"\";position: absolute;border-left: 1px solid gray;box-sizing: border-box;top: 0;bottom: 0;left: 50%;z-index: 0;}#sk-container-id-1 div.sk-serial {display: flex;flex-direction: column;align-items: center;background-color: white;padding-right: 0.2em;padding-left: 0.2em;position: relative;}#sk-container-id-1 div.sk-item {position: relative;z-index: 1;}#sk-container-id-1 div.sk-parallel {display: flex;align-items: stretch;justify-content: center;background-color: white;position: relative;}#sk-container-id-1 div.sk-item::before, #sk-container-id-1 div.sk-parallel-item::before {content: \"\";position: absolute;border-left: 1px solid gray;box-sizing: border-box;top: 0;bottom: 0;left: 50%;z-index: -1;}#sk-container-id-1 div.sk-parallel-item {display: flex;flex-direction: column;z-index: 1;position: relative;background-color: white;}#sk-container-id-1 div.sk-parallel-item:first-child::after {align-self: flex-end;width: 50%;}#sk-container-id-1 div.sk-parallel-item:last-child::after {align-self: flex-start;width: 50%;}#sk-container-id-1 div.sk-parallel-item:only-child::after {width: 0;}#sk-container-id-1 div.sk-dashed-wrapped {border: 1px dashed gray;margin: 0 0.4em 0.5em 0.4em;box-sizing: border-box;padding-bottom: 0.4em;background-color: white;}#sk-container-id-1 div.sk-label label {font-family: monospace;font-weight: bold;display: inline-block;line-height: 1.2em;}#sk-container-id-1 div.sk-label-container {text-align: center;}#sk-container-id-1 div.sk-container {/* jupyter's `normalize.less` sets `[hidden] { display: none; }` but bootstrap.min.css set `[hidden] { display: none !important; }` so we also need the `!important` here to be able to override the default hidden behavior on the sphinx rendered scikit-learn.org. See: https://github.com/scikit-learn/scikit-learn/issues/21755 */display: inline-block !important;position: relative;}#sk-container-id-1 div.sk-text-repr-fallback {display: none;}</style><div id=\"sk-container-id-1\" class=\"sk-top-container\"><div class=\"sk-text-repr-fallback\"><pre>GridSearchCV(estimator=XGBClassifier(base_score=None, booster=None,\n",
       "                                     callbacks=None, colsample_bylevel=None,\n",
       "                                     colsample_bynode=None,\n",
       "                                     colsample_bytree=None,\n",
       "                                     early_stopping_rounds=None,\n",
       "                                     enable_categorical=False, eval_metric=None,\n",
       "                                     feature_types=None, gamma=None,\n",
       "                                     gpu_id=None, grow_policy=None,\n",
       "                                     importance_type=None,\n",
       "                                     interaction_constraints=None,\n",
       "                                     learning_rate=None, max_b...\n",
       "                                     max_leaves=None, min_child_weight=None,\n",
       "                                     missing=nan, monotone_constraints=None,\n",
       "                                     n_estimators=100, n_jobs=None,\n",
       "                                     num_parallel_tree=None, predictor=None,\n",
       "                                     random_state=None, ...),\n",
       "             param_grid={&#x27;colsample_bytree&#x27;: [0.6, 0.7, 0.8, 0.9],\n",
       "                         &#x27;gamma&#x27;: [0.0, 0.1, 0.2, 0.3, 0.4],\n",
       "                         &#x27;max_depth&#x27;: range(3, 10, 2),\n",
       "                         &#x27;min_child_weight&#x27;: range(1, 6, 2),\n",
       "                         &#x27;reg_alpha&#x27;: [0, 0.001, 0.005, 0.01, 0.05],\n",
       "                         &#x27;subsample&#x27;: [0.6, 0.7, 0.8, 0.9]})</pre><b>In a Jupyter environment, please rerun this cell to show the HTML representation or trust the notebook. <br />On GitHub, the HTML representation is unable to render, please try loading this page with nbviewer.org.</b></div><div class=\"sk-container\" hidden><div class=\"sk-item sk-dashed-wrapped\"><div class=\"sk-label-container\"><div class=\"sk-label sk-toggleable\"><input class=\"sk-toggleable__control sk-hidden--visually\" id=\"sk-estimator-id-1\" type=\"checkbox\" ><label for=\"sk-estimator-id-1\" class=\"sk-toggleable__label sk-toggleable__label-arrow\">GridSearchCV</label><div class=\"sk-toggleable__content\"><pre>GridSearchCV(estimator=XGBClassifier(base_score=None, booster=None,\n",
       "                                     callbacks=None, colsample_bylevel=None,\n",
       "                                     colsample_bynode=None,\n",
       "                                     colsample_bytree=None,\n",
       "                                     early_stopping_rounds=None,\n",
       "                                     enable_categorical=False, eval_metric=None,\n",
       "                                     feature_types=None, gamma=None,\n",
       "                                     gpu_id=None, grow_policy=None,\n",
       "                                     importance_type=None,\n",
       "                                     interaction_constraints=None,\n",
       "                                     learning_rate=None, max_b...\n",
       "                                     max_leaves=None, min_child_weight=None,\n",
       "                                     missing=nan, monotone_constraints=None,\n",
       "                                     n_estimators=100, n_jobs=None,\n",
       "                                     num_parallel_tree=None, predictor=None,\n",
       "                                     random_state=None, ...),\n",
       "             param_grid={&#x27;colsample_bytree&#x27;: [0.6, 0.7, 0.8, 0.9],\n",
       "                         &#x27;gamma&#x27;: [0.0, 0.1, 0.2, 0.3, 0.4],\n",
       "                         &#x27;max_depth&#x27;: range(3, 10, 2),\n",
       "                         &#x27;min_child_weight&#x27;: range(1, 6, 2),\n",
       "                         &#x27;reg_alpha&#x27;: [0, 0.001, 0.005, 0.01, 0.05],\n",
       "                         &#x27;subsample&#x27;: [0.6, 0.7, 0.8, 0.9]})</pre></div></div></div><div class=\"sk-parallel\"><div class=\"sk-parallel-item\"><div class=\"sk-item\"><div class=\"sk-label-container\"><div class=\"sk-label sk-toggleable\"><input class=\"sk-toggleable__control sk-hidden--visually\" id=\"sk-estimator-id-2\" type=\"checkbox\" ><label for=\"sk-estimator-id-2\" class=\"sk-toggleable__label sk-toggleable__label-arrow\">estimator: XGBClassifier</label><div class=\"sk-toggleable__content\"><pre>XGBClassifier(base_score=None, booster=None, callbacks=None,\n",
       "              colsample_bylevel=None, colsample_bynode=None,\n",
       "              colsample_bytree=None, early_stopping_rounds=None,\n",
       "              enable_categorical=False, eval_metric=None, feature_types=None,\n",
       "              gamma=None, gpu_id=None, grow_policy=None, importance_type=None,\n",
       "              interaction_constraints=None, learning_rate=None, max_bin=None,\n",
       "              max_cat_threshold=None, max_cat_to_onehot=None,\n",
       "              max_delta_step=None, max_depth=None, max_leaves=None,\n",
       "              min_child_weight=None, missing=nan, monotone_constraints=None,\n",
       "              n_estimators=100, n_jobs=None, num_parallel_tree=None,\n",
       "              predictor=None, random_state=None, ...)</pre></div></div></div><div class=\"sk-serial\"><div class=\"sk-item\"><div class=\"sk-estimator sk-toggleable\"><input class=\"sk-toggleable__control sk-hidden--visually\" id=\"sk-estimator-id-3\" type=\"checkbox\" ><label for=\"sk-estimator-id-3\" class=\"sk-toggleable__label sk-toggleable__label-arrow\">XGBClassifier</label><div class=\"sk-toggleable__content\"><pre>XGBClassifier(base_score=None, booster=None, callbacks=None,\n",
       "              colsample_bylevel=None, colsample_bynode=None,\n",
       "              colsample_bytree=None, early_stopping_rounds=None,\n",
       "              enable_categorical=False, eval_metric=None, feature_types=None,\n",
       "              gamma=None, gpu_id=None, grow_policy=None, importance_type=None,\n",
       "              interaction_constraints=None, learning_rate=None, max_bin=None,\n",
       "              max_cat_threshold=None, max_cat_to_onehot=None,\n",
       "              max_delta_step=None, max_depth=None, max_leaves=None,\n",
       "              min_child_weight=None, missing=nan, monotone_constraints=None,\n",
       "              n_estimators=100, n_jobs=None, num_parallel_tree=None,\n",
       "              predictor=None, random_state=None, ...)</pre></div></div></div></div></div></div></div></div></div></div>"
      ],
      "text/plain": [
       "GridSearchCV(estimator=XGBClassifier(base_score=None, booster=None,\n",
       "                                     callbacks=None, colsample_bylevel=None,\n",
       "                                     colsample_bynode=None,\n",
       "                                     colsample_bytree=None,\n",
       "                                     early_stopping_rounds=None,\n",
       "                                     enable_categorical=False, eval_metric=None,\n",
       "                                     feature_types=None, gamma=None,\n",
       "                                     gpu_id=None, grow_policy=None,\n",
       "                                     importance_type=None,\n",
       "                                     interaction_constraints=None,\n",
       "                                     learning_rate=None, max_b...\n",
       "                                     max_leaves=None, min_child_weight=None,\n",
       "                                     missing=nan, monotone_constraints=None,\n",
       "                                     n_estimators=100, n_jobs=None,\n",
       "                                     num_parallel_tree=None, predictor=None,\n",
       "                                     random_state=None, ...),\n",
       "             param_grid={'colsample_bytree': [0.6, 0.7, 0.8, 0.9],\n",
       "                         'gamma': [0.0, 0.1, 0.2, 0.3, 0.4],\n",
       "                         'max_depth': range(3, 10, 2),\n",
       "                         'min_child_weight': range(1, 6, 2),\n",
       "                         'reg_alpha': [0, 0.001, 0.005, 0.01, 0.05],\n",
       "                         'subsample': [0.6, 0.7, 0.8, 0.9]})"
      ]
     },
     "execution_count": 25,
     "metadata": {},
     "output_type": "execute_result"
    }
   ],
   "source": [
    "paramgrid = {\n",
    "    'max_depth':range(3,10,2),\n",
    "    'min_child_weight':range(1,6,2),\n",
    "    'gamma':[i/10.0 for i in range(0,5)],\n",
    "    'subsample':[i/10.0 for i in range(6,10)],\n",
    "    'colsample_bytree':[i/10.0 for i in range(6,10)],\n",
    "    'reg_alpha':[0, 0.001, 0.005, 0.01, 0.05]\n",
    "}\n",
    "grid_search = GridSearchCV(XGBClassifier(), paramgrid)\n",
    "# X_train, X_val, y_train, y_val = train_test_split(X, y, test_size=0.3, random_state=42)\n",
    "grid_search.fit(X, y)"
   ]
  },
  {
   "cell_type": "code",
   "execution_count": 26,
   "id": "37185d95-5f14-40b8-8ba1-7e0209b4496d",
   "metadata": {},
   "outputs": [
    {
     "data": {
      "text/html": [
       "<style>#sk-container-id-2 {color: black;}#sk-container-id-2 pre{padding: 0;}#sk-container-id-2 div.sk-toggleable {background-color: white;}#sk-container-id-2 label.sk-toggleable__label {cursor: pointer;display: block;width: 100%;margin-bottom: 0;padding: 0.3em;box-sizing: border-box;text-align: center;}#sk-container-id-2 label.sk-toggleable__label-arrow:before {content: \"▸\";float: left;margin-right: 0.25em;color: #696969;}#sk-container-id-2 label.sk-toggleable__label-arrow:hover:before {color: black;}#sk-container-id-2 div.sk-estimator:hover label.sk-toggleable__label-arrow:before {color: black;}#sk-container-id-2 div.sk-toggleable__content {max-height: 0;max-width: 0;overflow: hidden;text-align: left;background-color: #f0f8ff;}#sk-container-id-2 div.sk-toggleable__content pre {margin: 0.2em;color: black;border-radius: 0.25em;background-color: #f0f8ff;}#sk-container-id-2 input.sk-toggleable__control:checked~div.sk-toggleable__content {max-height: 200px;max-width: 100%;overflow: auto;}#sk-container-id-2 input.sk-toggleable__control:checked~label.sk-toggleable__label-arrow:before {content: \"▾\";}#sk-container-id-2 div.sk-estimator input.sk-toggleable__control:checked~label.sk-toggleable__label {background-color: #d4ebff;}#sk-container-id-2 div.sk-label input.sk-toggleable__control:checked~label.sk-toggleable__label {background-color: #d4ebff;}#sk-container-id-2 input.sk-hidden--visually {border: 0;clip: rect(1px 1px 1px 1px);clip: rect(1px, 1px, 1px, 1px);height: 1px;margin: -1px;overflow: hidden;padding: 0;position: absolute;width: 1px;}#sk-container-id-2 div.sk-estimator {font-family: monospace;background-color: #f0f8ff;border: 1px dotted black;border-radius: 0.25em;box-sizing: border-box;margin-bottom: 0.5em;}#sk-container-id-2 div.sk-estimator:hover {background-color: #d4ebff;}#sk-container-id-2 div.sk-parallel-item::after {content: \"\";width: 100%;border-bottom: 1px solid gray;flex-grow: 1;}#sk-container-id-2 div.sk-label:hover label.sk-toggleable__label {background-color: #d4ebff;}#sk-container-id-2 div.sk-serial::before {content: \"\";position: absolute;border-left: 1px solid gray;box-sizing: border-box;top: 0;bottom: 0;left: 50%;z-index: 0;}#sk-container-id-2 div.sk-serial {display: flex;flex-direction: column;align-items: center;background-color: white;padding-right: 0.2em;padding-left: 0.2em;position: relative;}#sk-container-id-2 div.sk-item {position: relative;z-index: 1;}#sk-container-id-2 div.sk-parallel {display: flex;align-items: stretch;justify-content: center;background-color: white;position: relative;}#sk-container-id-2 div.sk-item::before, #sk-container-id-2 div.sk-parallel-item::before {content: \"\";position: absolute;border-left: 1px solid gray;box-sizing: border-box;top: 0;bottom: 0;left: 50%;z-index: -1;}#sk-container-id-2 div.sk-parallel-item {display: flex;flex-direction: column;z-index: 1;position: relative;background-color: white;}#sk-container-id-2 div.sk-parallel-item:first-child::after {align-self: flex-end;width: 50%;}#sk-container-id-2 div.sk-parallel-item:last-child::after {align-self: flex-start;width: 50%;}#sk-container-id-2 div.sk-parallel-item:only-child::after {width: 0;}#sk-container-id-2 div.sk-dashed-wrapped {border: 1px dashed gray;margin: 0 0.4em 0.5em 0.4em;box-sizing: border-box;padding-bottom: 0.4em;background-color: white;}#sk-container-id-2 div.sk-label label {font-family: monospace;font-weight: bold;display: inline-block;line-height: 1.2em;}#sk-container-id-2 div.sk-label-container {text-align: center;}#sk-container-id-2 div.sk-container {/* jupyter's `normalize.less` sets `[hidden] { display: none; }` but bootstrap.min.css set `[hidden] { display: none !important; }` so we also need the `!important` here to be able to override the default hidden behavior on the sphinx rendered scikit-learn.org. See: https://github.com/scikit-learn/scikit-learn/issues/21755 */display: inline-block !important;position: relative;}#sk-container-id-2 div.sk-text-repr-fallback {display: none;}</style><div id=\"sk-container-id-2\" class=\"sk-top-container\"><div class=\"sk-text-repr-fallback\"><pre>XGBClassifier(base_score=None, booster=None, callbacks=None,\n",
       "              colsample_bylevel=None, colsample_bynode=None,\n",
       "              colsample_bytree=0.7, early_stopping_rounds=None,\n",
       "              enable_categorical=False, eval_metric=None, feature_types=None,\n",
       "              gamma=0.0, gpu_id=None, grow_policy=None, importance_type=None,\n",
       "              interaction_constraints=None, learning_rate=None, max_bin=None,\n",
       "              max_cat_threshold=None, max_cat_to_onehot=None,\n",
       "              max_delta_step=None, max_depth=3, max_leaves=None,\n",
       "              min_child_weight=3, missing=nan, monotone_constraints=None,\n",
       "              n_estimators=100, n_jobs=None, num_parallel_tree=None,\n",
       "              predictor=None, random_state=None, ...)</pre><b>In a Jupyter environment, please rerun this cell to show the HTML representation or trust the notebook. <br />On GitHub, the HTML representation is unable to render, please try loading this page with nbviewer.org.</b></div><div class=\"sk-container\" hidden><div class=\"sk-item\"><div class=\"sk-estimator sk-toggleable\"><input class=\"sk-toggleable__control sk-hidden--visually\" id=\"sk-estimator-id-4\" type=\"checkbox\" checked><label for=\"sk-estimator-id-4\" class=\"sk-toggleable__label sk-toggleable__label-arrow\">XGBClassifier</label><div class=\"sk-toggleable__content\"><pre>XGBClassifier(base_score=None, booster=None, callbacks=None,\n",
       "              colsample_bylevel=None, colsample_bynode=None,\n",
       "              colsample_bytree=0.7, early_stopping_rounds=None,\n",
       "              enable_categorical=False, eval_metric=None, feature_types=None,\n",
       "              gamma=0.0, gpu_id=None, grow_policy=None, importance_type=None,\n",
       "              interaction_constraints=None, learning_rate=None, max_bin=None,\n",
       "              max_cat_threshold=None, max_cat_to_onehot=None,\n",
       "              max_delta_step=None, max_depth=3, max_leaves=None,\n",
       "              min_child_weight=3, missing=nan, monotone_constraints=None,\n",
       "              n_estimators=100, n_jobs=None, num_parallel_tree=None,\n",
       "              predictor=None, random_state=None, ...)</pre></div></div></div></div></div>"
      ],
      "text/plain": [
       "XGBClassifier(base_score=None, booster=None, callbacks=None,\n",
       "              colsample_bylevel=None, colsample_bynode=None,\n",
       "              colsample_bytree=0.7, early_stopping_rounds=None,\n",
       "              enable_categorical=False, eval_metric=None, feature_types=None,\n",
       "              gamma=0.0, gpu_id=None, grow_policy=None, importance_type=None,\n",
       "              interaction_constraints=None, learning_rate=None, max_bin=None,\n",
       "              max_cat_threshold=None, max_cat_to_onehot=None,\n",
       "              max_delta_step=None, max_depth=3, max_leaves=None,\n",
       "              min_child_weight=3, missing=nan, monotone_constraints=None,\n",
       "              n_estimators=100, n_jobs=None, num_parallel_tree=None,\n",
       "              predictor=None, random_state=None, ...)"
      ]
     },
     "execution_count": 26,
     "metadata": {},
     "output_type": "execute_result"
    }
   ],
   "source": [
    "grid_search.best_estimator_"
   ]
  },
  {
   "cell_type": "code",
   "execution_count": 27,
   "id": "61189ec8-2aca-4407-b916-1f564e45d3e8",
   "metadata": {},
   "outputs": [
    {
     "data": {
      "text/plain": [
       "{'colsample_bytree': 0.7,\n",
       " 'gamma': 0.0,\n",
       " 'max_depth': 3,\n",
       " 'min_child_weight': 3,\n",
       " 'reg_alpha': 0,\n",
       " 'subsample': 0.9}"
      ]
     },
     "execution_count": 27,
     "metadata": {},
     "output_type": "execute_result"
    }
   ],
   "source": [
    "grid_search.best_params_"
   ]
  },
  {
   "cell_type": "markdown",
   "id": "bc77ff1e-94f2-49e9-aeb3-c0ddef068c1d",
   "metadata": {},
   "source": [
    "# Best Model"
   ]
  },
  {
   "cell_type": "code",
   "execution_count": 44,
   "id": "ba891559-3f09-44ea-8c7b-687b941cfd4f",
   "metadata": {},
   "outputs": [
    {
     "name": "stdout",
     "output_type": "stream",
     "text": [
      "1 of kfold5\n",
      "Accuracy Score -->  0.8292682926829268\n",
      "2 of kfold5\n",
      "Accuracy Score -->  0.8048780487804879\n",
      "3 of kfold5\n",
      "Accuracy Score -->  0.7967479674796748\n",
      "4 of kfold5\n",
      "Accuracy Score -->  0.7886178861788617\n",
      "5 of kfold5\n",
      "Accuracy Score -->  0.7950819672131147\n",
      "Mean Validation Accuracy -->  0.8029188324670132\n"
     ]
    }
   ],
   "source": [
    "i = 1\n",
    "mean = 0\n",
    "kf = StratifiedKFold(n_splits=5, random_state=42, shuffle=True)\n",
    "for train_index, test_index in kf.split(X, y):\n",
    "    print(f'{i} of kfold{kf.n_splits}')\n",
    "    xtr, xvl = X.loc[train_index], X.loc[test_index]\n",
    "    ytr, yvl = y[train_index], y[test_index]\n",
    "    model = XGBClassifier(colsample_bytree=0.7, gamma=0, max_depth=3, min_child_weight=3, reg_alpha=0, subsample=0.9, n_estimators=30)\n",
    "    model.fit(xtr, ytr)\n",
    "    pred_cv=model.predict(xvl)\n",
    "    score=accuracy_score(yvl, pred_cv)\n",
    "    mean += score\n",
    "    print('Accuracy Score --> ', score)\n",
    "    i+=1\n",
    "    pred_test_cv = model.predict(test)\n",
    "    pred = model.predict_proba(xvl)[:,1]\n",
    "print('Mean Validation Accuracy --> ', mean/(i-1))"
   ]
  },
  {
   "cell_type": "markdown",
   "id": "7c6416be-b011-4ee9-afad-e72ba93e18a0",
   "metadata": {},
   "source": [
    "# Final Results"
   ]
  },
  {
   "cell_type": "markdown",
   "id": "074efa7a-056d-4c39-a71d-020495d7da3b",
   "metadata": {},
   "source": [
    "We can observe from the above results that Logistic Regression is the best model for our data. But after hyperparameter tuning we observe that XGBoost is our best model."
   ]
  },
  {
   "cell_type": "markdown",
   "id": "1276842f-1451-4e54-8ce4-47954c576e3d",
   "metadata": {},
   "source": [
    "# Conclusion"
   ]
  },
  {
   "cell_type": "markdown",
   "id": "f22fe540-2122-4b2b-89da-71299a033199",
   "metadata": {},
   "source": [
    "Through this project, I tried to create an automatic approval system for banks predicting approval decision on the basis of variety of factors.\n",
    "\n",
    "We had a classification problem and had to predict on the basis of discrete variables.\n",
    "Loan Eligibility prediction is a common problem that banks face on daily basis. By automating we can save hours of work."
   ]
  }
 ],
 "metadata": {
  "kernelspec": {
   "display_name": "env",
   "language": "python",
   "name": "env"
  },
  "language_info": {
   "codemirror_mode": {
    "name": "ipython",
    "version": 3
   },
   "file_extension": ".py",
   "mimetype": "text/x-python",
   "name": "python",
   "nbconvert_exporter": "python",
   "pygments_lexer": "ipython3",
   "version": "3.10.5"
  }
 },
 "nbformat": 4,
 "nbformat_minor": 5
}
